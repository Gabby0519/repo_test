{
  "cells": [
    {
      "cell_type": "markdown",
      "metadata": {
        "id": "view-in-github",
        "colab_type": "text"
      },
      "source": [
        "<a href=\"https://colab.research.google.com/github/Gabby0519/repo_test/blob/main/Solmin_Lee_DS110_F23_HW1.ipynb\" target=\"_parent\"><img src=\"https://colab.research.google.com/assets/colab-badge.svg\" alt=\"Open In Colab\"/></a>"
      ]
    },
    {
      "cell_type": "markdown",
      "metadata": {
        "id": "t5mfEbDIGzKz"
      },
      "source": [
        "# Homework 1 - 60 points possible - Due 9/18 11:59pm"
      ]
    },
    {
      "cell_type": "markdown",
      "metadata": {
        "id": "r3B-dpH5iZLv"
      },
      "source": [
        "# Problem 1:  Expression warmups (6 pts: 2,2,2)\n",
        "\n",
        "Compute the following quantities in the code boxes that follow each prompt.\n",
        "Note that for each of these, we care about what the code *evaluates to* and not what it *prints* - so you don't need to call print() for any of these.\n",
        "\n",
        "a) (2 pts) The square of 2023.\n",
        "\n"
      ]
    },
    {
      "cell_type": "code",
      "execution_count": 1,
      "metadata": {
        "colab": {
          "base_uri": "https://localhost:8080/"
        },
        "id": "rEMn_1TbiuB8",
        "outputId": "5e5ca080-52bd-42b8-8b87-c194d1d18817"
      },
      "outputs": [
        {
          "output_type": "execute_result",
          "data": {
            "text/plain": [
              "44.97777228809804"
            ]
          },
          "metadata": {},
          "execution_count": 1
        }
      ],
      "source": [
        "import math as m\n",
        "m.sqrt(2023)"
      ]
    },
    {
      "cell_type": "markdown",
      "metadata": {
        "id": "xxv597ytixjM"
      },
      "source": [
        "b) (2 pts) The number of characters in the phrase \"Pursue the unknown end.\"  (Including the whitespace and period.)"
      ]
    },
    {
      "cell_type": "code",
      "execution_count": 2,
      "metadata": {
        "colab": {
          "base_uri": "https://localhost:8080/"
        },
        "id": "uIGdIsgbi_Lb",
        "outputId": "a0644ca8-66ae-4643-8cb3-192c0588ff14"
      },
      "outputs": [
        {
          "output_type": "execute_result",
          "data": {
            "text/plain": [
              "23"
            ]
          },
          "metadata": {},
          "execution_count": 2
        }
      ],
      "source": [
        "len(\"Pursue the unknown end.\")"
      ]
    },
    {
      "cell_type": "markdown",
      "metadata": {
        "id": "V_fmMh-3ja1o"
      },
      "source": [
        "c) (2 pts) The remainder (import the math library) of -289 divided by 12."
      ]
    },
    {
      "cell_type": "code",
      "execution_count": 3,
      "metadata": {
        "colab": {
          "base_uri": "https://localhost:8080/"
        },
        "id": "QM5HsgRIjZ5T",
        "outputId": "057363bb-1905-47f8-a6bb-f283f5830d8f"
      },
      "outputs": [
        {
          "output_type": "execute_result",
          "data": {
            "text/plain": [
              "11"
            ]
          },
          "metadata": {},
          "execution_count": 3
        }
      ],
      "source": [
        "-289%12"
      ]
    },
    {
      "cell_type": "markdown",
      "metadata": {
        "id": "eXBUdcCZIigE"
      },
      "source": [
        "# Problem 2:  Logic (14 pts: 2,4,4,4)"
      ]
    },
    {
      "cell_type": "markdown",
      "metadata": {
        "id": "3Q1ApEEVIigE"
      },
      "source": [
        "These problems will get you used to logical reasoning with and, or, and not, which come up quite a bit in programming.  For each problem, find the assignment of True or False to each variable that makes the variable \"result\" True."
      ]
    },
    {
      "cell_type": "markdown",
      "metadata": {
        "id": "NPwKvoBdIigF"
      },
      "source": [
        "a) (2 pts)"
      ]
    },
    {
      "cell_type": "code",
      "execution_count": 4,
      "metadata": {
        "colab": {
          "base_uri": "https://localhost:8080/"
        },
        "id": "8KrC-AHsIigG",
        "outputId": "eeddad84-4166-4239-ce83-26f682401e25"
      },
      "outputs": [
        {
          "output_type": "execute_result",
          "data": {
            "text/plain": [
              "True"
            ]
          },
          "metadata": {},
          "execution_count": 4
        }
      ],
      "source": [
        "a = True   # TODO:  change if necessary\n",
        "b = True   # TODO:  change if necessary\n",
        "result = a and b\n",
        "result"
      ]
    },
    {
      "cell_type": "markdown",
      "metadata": {
        "id": "EUh2fhIFIigI"
      },
      "source": [
        "b) (4 pts)"
      ]
    },
    {
      "cell_type": "code",
      "execution_count": 5,
      "metadata": {
        "colab": {
          "base_uri": "https://localhost:8080/"
        },
        "id": "9Ytt1DTdIigJ",
        "outputId": "7fe0a2c7-7e8d-4d49-8ddd-8aafcebe4197"
      },
      "outputs": [
        {
          "output_type": "execute_result",
          "data": {
            "text/plain": [
              "True"
            ]
          },
          "metadata": {},
          "execution_count": 5
        }
      ],
      "source": [
        "a = True   # TODO:  change if necessary\n",
        "b = False  # TODO:  change if necessary\n",
        "result = (a and not b) or (not a and b) and a\n",
        "result"
      ]
    },
    {
      "cell_type": "markdown",
      "metadata": {
        "id": "NFIGlesGIigJ"
      },
      "source": [
        "c) (4 pts)"
      ]
    },
    {
      "cell_type": "code",
      "execution_count": 6,
      "metadata": {
        "colab": {
          "base_uri": "https://localhost:8080/"
        },
        "id": "3U3omhyQIigK",
        "outputId": "52188350-8a99-48a7-aa22-cf93e9d1c3ad"
      },
      "outputs": [
        {
          "output_type": "execute_result",
          "data": {
            "text/plain": [
              "True"
            ]
          },
          "metadata": {},
          "execution_count": 6
        }
      ],
      "source": [
        "a = True   # TODO:  change if necessary\n",
        "b = True   # TODO:  change if necessary\n",
        "c = False  # TODO:  change if necessary\n",
        "d = True   # TODO:  change if necessary\n",
        "e = True   # TODO:  change if necessary\n",
        "result = (not a or b) and (not b or not c) and (c or d) and (not d or e) and a\n",
        "result"
      ]
    },
    {
      "cell_type": "markdown",
      "metadata": {
        "id": "BAnHQTG4IigL"
      },
      "source": [
        "d) (4 pts)"
      ]
    },
    {
      "cell_type": "code",
      "execution_count": 7,
      "metadata": {
        "colab": {
          "base_uri": "https://localhost:8080/"
        },
        "id": "cNBTac1fIigL",
        "outputId": "947ccdba-7fd0-4484-9a3e-3e90275af3c0"
      },
      "outputs": [
        {
          "output_type": "execute_result",
          "data": {
            "text/plain": [
              "True"
            ]
          },
          "metadata": {},
          "execution_count": 7
        }
      ],
      "source": [
        "log_level = 0        # TODO:  change to 1 if necessary\n",
        "verbose = True       # TODO:  change to True if necessary\n",
        "gpu_enabled = True   # TODO:  change to True if necessary\n",
        "extensive = True     # TODO:  change to True if necessary\n",
        "if extensive:\n",
        "    iterations = 20\n",
        "else:\n",
        "    iterations = 5\n",
        "logging = log_level != 0\n",
        "run_full_analysis = iterations >= 10 and gpu_enabled\n",
        "result = run_full_analysis and verbose and not logging\n",
        "result"
      ]
    },
    {
      "cell_type": "markdown",
      "metadata": {
        "id": "zSHlKxeL2Dxi"
      },
      "source": [
        "# Problem 3:  Conditional warmups (20 pts: 6,8,6)"
      ]
    },
    {
      "cell_type": "markdown",
      "metadata": {
        "id": "vnnhP-eg2GaI"
      },
      "source": [
        "Write a brief program for each prompt that makes use of the provided variable current_hour to determine what hour of the day it is.  current_hour can be set to any value between 0 (midnight) and 23 (11pm)."
      ]
    },
    {
      "cell_type": "code",
      "execution_count": 8,
      "metadata": {
        "id": "7INB3vZW2QEZ"
      },
      "outputs": [],
      "source": [
        "current_hour = 10  # change to get different outputs below"
      ]
    },
    {
      "cell_type": "markdown",
      "metadata": {
        "id": "WyUKMhGV3-TV"
      },
      "source": [
        "a) (6 pts) If the current hour is between 5 and 9 inclusive, print \"Breakfast!\".  If the current hour is between 10 and 13 inclusive, print \"Brunch!\"  Otherwise, print \"Not breakfast :(\"."
      ]
    },
    {
      "cell_type": "code",
      "execution_count": 9,
      "metadata": {
        "colab": {
          "base_uri": "https://localhost:8080/"
        },
        "id": "0ywaqLMb4Znk",
        "outputId": "b5c42e60-31e2-4f52-8268-9be637c70893"
      },
      "outputs": [
        {
          "output_type": "stream",
          "name": "stdout",
          "text": [
            "Brunch!\n"
          ]
        }
      ],
      "source": [
        "if current_hour >=5 and current_hour <=9:\n",
        "  print(\"Breakfast!\")\n",
        "if current_hour >=10 and current_hour <=13:\n",
        "  print(\"Brunch!\")\n",
        "else:\n",
        "  print(\"Not breakfast:(\")"
      ]
    },
    {
      "cell_type": "markdown",
      "metadata": {
        "id": "ydjGzl3N5FxV"
      },
      "source": [
        "b) (8 points) If the time is equal to or after 9:00pm (21), print \"In three hours, it will be tomorrow.\" Otherwise, print \"In three hours, it will be \" followed by the hour three hours later using non-military time (so between 1 and 12).  (For example, if current_hour were 16, write \"In three hours, it will be 7.\")\n",
        "\n"
      ]
    },
    {
      "cell_type": "code",
      "execution_count": 10,
      "metadata": {
        "colab": {
          "base_uri": "https://localhost:8080/"
        },
        "id": "qCDO8lpj5ENe",
        "outputId": "d63880c1-0062-4721-84b9-dbf2d18e8d2d"
      },
      "outputs": [
        {
          "output_type": "stream",
          "name": "stdout",
          "text": [
            "In three hours, it will be 1.\n"
          ]
        }
      ],
      "source": [
        "new = current_hour + -12 + 3\n",
        "if current_hour >= 21:\n",
        "  print(\"In three hours, it will be tomorrow.\")\n",
        "else:\n",
        "  print(\"In three hours, it will be \" + str(new) + \".\")"
      ]
    },
    {
      "cell_type": "markdown",
      "metadata": {
        "id": "-hGrTU4zIigQ"
      },
      "source": [
        "c) (6 points)  Print \"X hours until midnight\" if the current hour is after noon, where X is the correct number of hours, and \"X hours until noon\" if it's before noon.  If it's noon or midnight, print \"Noon\" or \"Midnight\", respectively.  (You don't need to change \"hours\" to \"hour\" if there's just one.)"
      ]
    },
    {
      "cell_type": "code",
      "execution_count": 11,
      "metadata": {
        "id": "IGxe6JEjIigQ",
        "colab": {
          "base_uri": "https://localhost:8080/"
        },
        "outputId": "214fd304-df12-4ba8-e699-8425652f1479"
      },
      "outputs": [
        {
          "output_type": "stream",
          "name": "stdout",
          "text": [
            "2 hours until noon\n"
          ]
        }
      ],
      "source": [
        "x = 24 - current_hour\n",
        "y = 12 - current_hour\n",
        "if current_hour >= 12:\n",
        "  print(str(x) + \"hours until midnight\")\n",
        "elif current_hour <12:\n",
        "  print(str(y) + \" hours until noon\")\n",
        "elif current_hour == 12:\n",
        "  print(\"Noon\")\n",
        "elif current_hour == 24:\n",
        "  print(\"Midnight\")"
      ]
    },
    {
      "cell_type": "markdown",
      "metadata": {
        "id": "4ZCmUSwkr484"
      },
      "source": [
        "# Problem 4: Lists (20 pts: 2,2,3,4,3,3)\n",
        "\n",
        "Some gas prices around the Boston area are 4.99, 5.10, 5.40, and 4.80.\n",
        "\n",
        "a, 2pts) Create a variable named gas_prices that stores all four values as a list."
      ]
    },
    {
      "cell_type": "code",
      "execution_count": 12,
      "metadata": {
        "id": "Ujr6MRQQsX9t"
      },
      "outputs": [],
      "source": [
        "gas_prices = [4.99, 5.10, 5.40, 4.80]"
      ]
    },
    {
      "cell_type": "markdown",
      "metadata": {
        "id": "Yr3TSbbJsoao"
      },
      "source": [
        "b, 2pts) We discovered a new gas station.  Call the list method\n",
        " append() to add the value 4.75 to the end of the list."
      ]
    },
    {
      "cell_type": "code",
      "execution_count": 13,
      "metadata": {
        "id": "NqzSEhGfsfiy",
        "colab": {
          "base_uri": "https://localhost:8080/"
        },
        "outputId": "35182b16-e6d6-488c-a5b0-f8c53d7f4cf5"
      },
      "outputs": [
        {
          "output_type": "stream",
          "name": "stdout",
          "text": [
            "[4.99, 5.1, 5.4, 4.8, 4.75]\n"
          ]
        }
      ],
      "source": [
        "gas_prices.append (4.75)\n",
        "print(gas_prices)"
      ]
    },
    {
      "cell_type": "markdown",
      "metadata": {
        "id": "aPVRow22s6mp"
      },
      "source": [
        "c, 3pts) Call the sort() method on the prices, then write an expression that returns the median price in the list, that is, the price in the middle.  (You can hardcode the index of the median price.)"
      ]
    },
    {
      "cell_type": "code",
      "execution_count": 14,
      "metadata": {
        "id": "vRM2otpXtOCg",
        "colab": {
          "base_uri": "https://localhost:8080/"
        },
        "outputId": "1668fd59-86c3-4dfb-d0b7-687886df88af"
      },
      "outputs": [
        {
          "output_type": "stream",
          "name": "stdout",
          "text": [
            "4.99\n"
          ]
        }
      ],
      "source": [
        "gas_prices.sort()\n",
        "print(gas_prices[2])"
      ]
    },
    {
      "cell_type": "markdown",
      "metadata": {
        "id": "2-MkftMYtlgZ"
      },
      "source": [
        "d, 4pts) Assuming the list is already sorted, code an expression that returns the difference between the largest price and the smallest price."
      ]
    },
    {
      "cell_type": "code",
      "execution_count": 15,
      "metadata": {
        "id": "V1RO8jtHtxnf",
        "colab": {
          "base_uri": "https://localhost:8080/"
        },
        "outputId": "e4d0a0c7-921a-4423-f284-0dcc2b4441b7"
      },
      "outputs": [
        {
          "output_type": "stream",
          "name": "stdout",
          "text": [
            "0.6500000000000004\n"
          ]
        }
      ],
      "source": [
        "diff = max(gas_prices) - min(gas_prices)\n",
        "print(diff)"
      ]
    },
    {
      "cell_type": "markdown",
      "metadata": {
        "id": "aMfrWT_TIigW"
      },
      "source": [
        "e, 3pts) Look online for a list method that reverses the order of the list.  Do this to gas_prices and print it."
      ]
    },
    {
      "cell_type": "code",
      "execution_count": 16,
      "metadata": {
        "id": "y9yYRbZhIigX",
        "colab": {
          "base_uri": "https://localhost:8080/"
        },
        "outputId": "118ff000-f08c-43b0-9c13-d275efec69f6"
      },
      "outputs": [
        {
          "output_type": "execute_result",
          "data": {
            "text/plain": [
              "[5.4, 5.1, 4.99, 4.8, 4.75]"
            ]
          },
          "metadata": {},
          "execution_count": 16
        }
      ],
      "source": [
        "gas_prices[::-1]"
      ]
    },
    {
      "cell_type": "markdown",
      "metadata": {
        "id": "oU3janIWIigY"
      },
      "source": [
        "f, 3 pts) Here is a list-of-lists \"prices\" containing gas prices by the gallon in the first list, and milk prices by the gallon in the second list.  Write the expression that accesses the second milk price (3.04)."
      ]
    },
    {
      "cell_type": "code",
      "execution_count": 17,
      "metadata": {
        "id": "ADfoGXdaIiga"
      },
      "outputs": [],
      "source": [
        "prices = [[4.99, 5.10, 5.40, 4.80], # gas prices\n",
        "          [2.90, 3.04, 3.32, 3.55]] # milk prices"
      ]
    },
    {
      "cell_type": "code",
      "execution_count": 18,
      "metadata": {
        "id": "xf2KWNP3Iigd",
        "colab": {
          "base_uri": "https://localhost:8080/"
        },
        "outputId": "936f8a30-fcce-4b0f-8d04-63f0c7892633"
      },
      "outputs": [
        {
          "output_type": "stream",
          "name": "stdout",
          "text": [
            "3.04\n"
          ]
        }
      ],
      "source": [
        "print(prices[1][1])"
      ]
    },
    {
      "cell_type": "markdown",
      "metadata": {
        "id": "gz18GA2BIigg"
      },
      "source": [
        "g, 3pts) Use the function max() to find the largest *milk* price.  (Index just once into prices, to get the milk list.)"
      ]
    },
    {
      "cell_type": "code",
      "execution_count": 19,
      "metadata": {
        "id": "n_JLarAaIigg",
        "colab": {
          "base_uri": "https://localhost:8080/"
        },
        "outputId": "3b0746c7-b012-48d2-b6e2-050027554f7b"
      },
      "outputs": [
        {
          "output_type": "execute_result",
          "data": {
            "text/plain": [
              "3.55"
            ]
          },
          "metadata": {},
          "execution_count": 19
        }
      ],
      "source": [
        "max(prices[1])"
      ]
    }
  ],
  "metadata": {
    "colab": {
      "provenance": [],
      "include_colab_link": true
    },
    "kernelspec": {
      "display_name": "Python 3",
      "language": "python",
      "name": "python3"
    },
    "language_info": {
      "codemirror_mode": {
        "name": "ipython",
        "version": 3
      },
      "file_extension": ".py",
      "mimetype": "text/x-python",
      "name": "python",
      "nbconvert_exporter": "python",
      "pygments_lexer": "ipython3",
      "version": "3.8.8"
    }
  },
  "nbformat": 4,
  "nbformat_minor": 0
}